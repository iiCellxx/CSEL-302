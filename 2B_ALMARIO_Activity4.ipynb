{
  "nbformat": 4,
  "nbformat_minor": 0,
  "metadata": {
    "colab": {
      "provenance": []
    },
    "kernelspec": {
      "name": "python3",
      "display_name": "Python 3"
    },
    "language_info": {
      "name": "python"
    }
  },
  "cells": [
    {
      "cell_type": "markdown",
      "source": [
        "# Dataset:\n",
        " Provide a dataset containing features such as:\n",
        " Hours of Study\n",
        " Attendance Percentage\n",
        " Previous Exam Scores\n",
        " Extracurricular Activities\n",
        " Travel Time to School"
      ],
      "metadata": {
        "id": "84fqLTUU7srF"
      }
    },
    {
      "cell_type": "markdown",
      "source": [
        "# Import Libraries"
      ],
      "metadata": {
        "id": "GVt7YCy-72RZ"
      }
    },
    {
      "cell_type": "code",
      "execution_count": 35,
      "metadata": {
        "id": "eWJyBMP67fQs"
      },
      "outputs": [],
      "source": [
        "import pandas as pd #Data Manipulation\n",
        "import numpy as np #Numerical Operation\n",
        "import matplotlib.pyplot as plt #Data Visualization\n",
        "from sklearn.linear_model import LinearRegression #Data Modeling\n",
        "from sklearn.model_selection import train_test_split\n",
        "from sklearn.preprocessing import StandardScaler\n",
        "from sklearn.preprocessing import MinMaxScaler\n",
        "from sklearn.metrics import mean_squared_error"
      ]
    },
    {
      "cell_type": "markdown",
      "source": [
        "# 1. Data Exploration:\n",
        "\n"
      ],
      "metadata": {
        "id": "BrZCkfaa8YXs"
      }
    },
    {
      "cell_type": "code",
      "source": [
        "dataset = pd.read_csv(\"students_grade.csv\")\n",
        "\n",
        "print(dataset.head())\n",
        "\n",
        "# Define the dataset features\n",
        "Hours_of_Study = \"The number of study hours.\"\n",
        "Attendance_Percentage = \"Attendance percentage in class.\"\n",
        "Previous_Exam_Scores = \"Scores from previous exams.\"\n",
        "Extracurricular_Activities = \"Binary (0 or 1) indicating participation in extracurricular activities.\"\n",
        "Travel_Time_to_School = \"Travel time to school.\"\n",
        "Grades = \"Student grades.\"\n",
        "\n",
        "# Print the information\n",
        "print(f\"The potential impact of each feature on student grades.:\")\n",
        "print(f\"Hours_of_Study: {Hours_of_Study}\")\n",
        "print(f\"Attendance_Percentage: {Attendance_Percentage}\")\n",
        "print(f\"Previous_Exam_Scores: {Previous_Exam_Scores}\")\n",
        "print(f\"Extracurricular_Activities: {Extracurricular_Activities}\")\n",
        "print(f\"Travel_Time_to_School: {Travel_Time_to_School}\")\n",
        "print(f\"Grades: {Grades}\")"
      ],
      "metadata": {
        "colab": {
          "base_uri": "https://localhost:8080/"
        },
        "id": "Fm0Ez8sC8uZZ",
        "outputId": "c6b860b0-b18a-4add-807c-8d751bda9a08"
      },
      "execution_count": 36,
      "outputs": [
        {
          "output_type": "stream",
          "name": "stdout",
          "text": [
            "   Hours_of_Study  Attendance_Percentage  Previous_Exam_Scores  \\\n",
            "0        4.370861              75.553988             63.085284   \n",
            "1        9.556429              86.257028             62.348940   \n",
            "2        7.587945              96.188375             95.312729   \n",
            "3        6.387926              91.966747             62.477310   \n",
            "4        2.404168              94.196834             63.597486   \n",
            "\n",
            "   Extracurricular_Activities  Travel_Time_to_School     Grades  \n",
            "0                           0              24.325977  31.494329  \n",
            "1                           0              50.132016  43.250150  \n",
            "2                           0              59.861895  30.155663  \n",
            "3                           1              11.501300  39.617522  \n",
            "4                           0              54.868293  33.175874  \n",
            "The potential impact of each feature on student grades.:\n",
            "Hours_of_Study: The number of study hours.\n",
            "Attendance_Percentage: Attendance percentage in class.\n",
            "Previous_Exam_Scores: Scores from previous exams.\n",
            "Extracurricular_Activities: Binary (0 or 1) indicating participation in extracurricular activities.\n",
            "Travel_Time_to_School: Travel time to school.\n",
            "Grades: Student grades.\n"
          ]
        }
      ]
    },
    {
      "cell_type": "markdown",
      "source": [
        "# 2. Data Preprocessing:"
      ],
      "metadata": {
        "id": "aCsU1ffj9N87"
      }
    },
    {
      "cell_type": "code",
      "source": [
        "dataset = pd.read_csv('students_grade.csv')\n",
        "\n",
        "missing_values = dataset.isnull().sum()\n",
        "print(\"Missing values:\\n\", missing_values)\n",
        "\n",
        "scaler = MinMaxScaler()\n",
        "dataset[['Hours_of_Study', 'Attendance_Percentage', 'Previous_Exam_Scores', 'Travel_Time_to_School']] = scaler.fit_transform(dataset[['Hours_of_Study', 'Attendance_Percentage', 'Previous_Exam_Scores', 'Travel_Time_to_School']])\n",
        "\n",
        "dataset.to_csv('students_grade_preprocessed.csv', index=False)\n",
        "\n"
      ],
      "metadata": {
        "colab": {
          "base_uri": "https://localhost:8080/"
        },
        "id": "Q0vehnujCWvg",
        "outputId": "69dcbcd2-da26-4682-f1d5-c014d2e0bdb1"
      },
      "execution_count": 37,
      "outputs": [
        {
          "output_type": "stream",
          "name": "stdout",
          "text": [
            "Missing values:\n",
            " Hours_of_Study                0\n",
            "Attendance_Percentage         0\n",
            "Previous_Exam_Scores          0\n",
            "Extracurricular_Activities    0\n",
            "Travel_Time_to_School         0\n",
            "Grades                        0\n",
            "dtype: int64\n"
          ]
        }
      ]
    },
    {
      "cell_type": "code",
      "source": [
        "X = dataset.drop('Grades', axis=1) #Independent Variable\n",
        "Y = dataset[['Grades']]"
      ],
      "metadata": {
        "id": "pSVDCPat-s2w"
      },
      "execution_count": 38,
      "outputs": []
    },
    {
      "cell_type": "markdown",
      "source": [
        "# 3. Train-Test Split:"
      ],
      "metadata": {
        "id": "xLFNjfwq-tOv"
      }
    },
    {
      "cell_type": "code",
      "source": [
        "X_train, X_test, Y_train, Y_test = train_test_split(X,Y, test_size=0.2, random_state=42)\n",
        "\n"
      ],
      "metadata": {
        "id": "w_25WHRe-wWI"
      },
      "execution_count": 39,
      "outputs": []
    },
    {
      "cell_type": "markdown",
      "source": [
        "# 4. Linear Regression Model:"
      ],
      "metadata": {
        "id": "yc6t74Sl_OfC"
      }
    },
    {
      "cell_type": "code",
      "source": [
        "model = LinearRegression()\n"
      ],
      "metadata": {
        "id": "P5-oH3jS_RMy"
      },
      "execution_count": 40,
      "outputs": []
    },
    {
      "cell_type": "markdown",
      "source": [
        "# 5. Model Training:"
      ],
      "metadata": {
        "id": "kD38bbDS_gVR"
      }
    },
    {
      "cell_type": "code",
      "source": [
        "model.fit(X_train, Y_train)\n"
      ],
      "metadata": {
        "colab": {
          "base_uri": "https://localhost:8080/",
          "height": 75
        },
        "id": "YNqi8fFM_kwO",
        "outputId": "edf5ab11-e1f0-4259-e839-0edf1381e087"
      },
      "execution_count": 41,
      "outputs": [
        {
          "output_type": "execute_result",
          "data": {
            "text/plain": [
              "LinearRegression()"
            ],
            "text/html": [
              "<style>#sk-container-id-6 {color: black;background-color: white;}#sk-container-id-6 pre{padding: 0;}#sk-container-id-6 div.sk-toggleable {background-color: white;}#sk-container-id-6 label.sk-toggleable__label {cursor: pointer;display: block;width: 100%;margin-bottom: 0;padding: 0.3em;box-sizing: border-box;text-align: center;}#sk-container-id-6 label.sk-toggleable__label-arrow:before {content: \"▸\";float: left;margin-right: 0.25em;color: #696969;}#sk-container-id-6 label.sk-toggleable__label-arrow:hover:before {color: black;}#sk-container-id-6 div.sk-estimator:hover label.sk-toggleable__label-arrow:before {color: black;}#sk-container-id-6 div.sk-toggleable__content {max-height: 0;max-width: 0;overflow: hidden;text-align: left;background-color: #f0f8ff;}#sk-container-id-6 div.sk-toggleable__content pre {margin: 0.2em;color: black;border-radius: 0.25em;background-color: #f0f8ff;}#sk-container-id-6 input.sk-toggleable__control:checked~div.sk-toggleable__content {max-height: 200px;max-width: 100%;overflow: auto;}#sk-container-id-6 input.sk-toggleable__control:checked~label.sk-toggleable__label-arrow:before {content: \"▾\";}#sk-container-id-6 div.sk-estimator input.sk-toggleable__control:checked~label.sk-toggleable__label {background-color: #d4ebff;}#sk-container-id-6 div.sk-label input.sk-toggleable__control:checked~label.sk-toggleable__label {background-color: #d4ebff;}#sk-container-id-6 input.sk-hidden--visually {border: 0;clip: rect(1px 1px 1px 1px);clip: rect(1px, 1px, 1px, 1px);height: 1px;margin: -1px;overflow: hidden;padding: 0;position: absolute;width: 1px;}#sk-container-id-6 div.sk-estimator {font-family: monospace;background-color: #f0f8ff;border: 1px dotted black;border-radius: 0.25em;box-sizing: border-box;margin-bottom: 0.5em;}#sk-container-id-6 div.sk-estimator:hover {background-color: #d4ebff;}#sk-container-id-6 div.sk-parallel-item::after {content: \"\";width: 100%;border-bottom: 1px solid gray;flex-grow: 1;}#sk-container-id-6 div.sk-label:hover label.sk-toggleable__label {background-color: #d4ebff;}#sk-container-id-6 div.sk-serial::before {content: \"\";position: absolute;border-left: 1px solid gray;box-sizing: border-box;top: 0;bottom: 0;left: 50%;z-index: 0;}#sk-container-id-6 div.sk-serial {display: flex;flex-direction: column;align-items: center;background-color: white;padding-right: 0.2em;padding-left: 0.2em;position: relative;}#sk-container-id-6 div.sk-item {position: relative;z-index: 1;}#sk-container-id-6 div.sk-parallel {display: flex;align-items: stretch;justify-content: center;background-color: white;position: relative;}#sk-container-id-6 div.sk-item::before, #sk-container-id-6 div.sk-parallel-item::before {content: \"\";position: absolute;border-left: 1px solid gray;box-sizing: border-box;top: 0;bottom: 0;left: 50%;z-index: -1;}#sk-container-id-6 div.sk-parallel-item {display: flex;flex-direction: column;z-index: 1;position: relative;background-color: white;}#sk-container-id-6 div.sk-parallel-item:first-child::after {align-self: flex-end;width: 50%;}#sk-container-id-6 div.sk-parallel-item:last-child::after {align-self: flex-start;width: 50%;}#sk-container-id-6 div.sk-parallel-item:only-child::after {width: 0;}#sk-container-id-6 div.sk-dashed-wrapped {border: 1px dashed gray;margin: 0 0.4em 0.5em 0.4em;box-sizing: border-box;padding-bottom: 0.4em;background-color: white;}#sk-container-id-6 div.sk-label label {font-family: monospace;font-weight: bold;display: inline-block;line-height: 1.2em;}#sk-container-id-6 div.sk-label-container {text-align: center;}#sk-container-id-6 div.sk-container {/* jupyter's `normalize.less` sets `[hidden] { display: none; }` but bootstrap.min.css set `[hidden] { display: none !important; }` so we also need the `!important` here to be able to override the default hidden behavior on the sphinx rendered scikit-learn.org. See: https://github.com/scikit-learn/scikit-learn/issues/21755 */display: inline-block !important;position: relative;}#sk-container-id-6 div.sk-text-repr-fallback {display: none;}</style><div id=\"sk-container-id-6\" class=\"sk-top-container\"><div class=\"sk-text-repr-fallback\"><pre>LinearRegression()</pre><b>In a Jupyter environment, please rerun this cell to show the HTML representation or trust the notebook. <br />On GitHub, the HTML representation is unable to render, please try loading this page with nbviewer.org.</b></div><div class=\"sk-container\" hidden><div class=\"sk-item\"><div class=\"sk-estimator sk-toggleable\"><input class=\"sk-toggleable__control sk-hidden--visually\" id=\"sk-estimator-id-6\" type=\"checkbox\" checked><label for=\"sk-estimator-id-6\" class=\"sk-toggleable__label sk-toggleable__label-arrow\">LinearRegression</label><div class=\"sk-toggleable__content\"><pre>LinearRegression()</pre></div></div></div></div></div>"
            ]
          },
          "metadata": {},
          "execution_count": 41
        }
      ]
    },
    {
      "cell_type": "markdown",
      "source": [
        "# 6. Predictions and Evaluation:"
      ],
      "metadata": {
        "id": "w_e6m5ASAmsq"
      }
    },
    {
      "cell_type": "code",
      "source": [
        "new_data = np.array([[2, 70, 85, 1, 50]])\n",
        "\n",
        "prediction = model.predict(new_data)\n",
        "\n",
        "print(f\"Predicted Grades: {prediction[0]}\")\n",
        "\n",
        "\n",
        "\n",
        "\n"
      ],
      "metadata": {
        "colab": {
          "base_uri": "https://localhost:8080/"
        },
        "id": "aLHpPzOYApMG",
        "outputId": "54f2b3a3-28a9-4bde-fc5d-83558202d76e"
      },
      "execution_count": 43,
      "outputs": [
        {
          "output_type": "stream",
          "name": "stdout",
          "text": [
            "Predicted Grades: 35.50094090842829\n"
          ]
        },
        {
          "output_type": "stream",
          "name": "stderr",
          "text": [
            "/usr/local/lib/python3.10/dist-packages/sklearn/base.py:439: UserWarning: X does not have valid feature names, but LinearRegression was fitted with feature names\n",
            "  warnings.warn(\n"
          ]
        }
      ]
    },
    {
      "cell_type": "markdown",
      "source": [
        "# 7. Feature Importance Analysis:"
      ],
      "metadata": {
        "id": "OA00c9K5DkTl"
      }
    },
    {
      "cell_type": "code",
      "source": [
        "dataset = pd.read_csv('students_grade.csv')\n",
        "\n",
        "# Separate features (X) and target (y)\n",
        "X = dataset[['Hours_of_Study', 'Attendance_Percentage', 'Previous_Exam_Scores', 'Extracurricular_Activities', 'Travel_Time_to_School']]\n",
        "y = dataset['Grades']\n",
        "\n",
        "# Initialize and fit the linear regression model\n",
        "model = LinearRegression()\n",
        "model.fit(X, y)\n",
        "\n",
        "# Get feature coefficients\n",
        "feature_importance = pd.Series(model.coef_, index=X.columns)\n",
        "\n",
        "# Print feature importance\n",
        "print(\"Feature Importance (Coefficients):\\n\", feature_importance)\n",
        "\n",
        "# Plot feature importance\n",
        "plt.figure(figsize=(10, 6))\n",
        "feature_importance.plot(kind='bar')\n",
        "plt.title(\"Feature Importance (Coefficients)\")\n",
        "plt.xlabel(\"Features\")\n",
        "plt.ylabel(\"Coefficient Value\")\n",
        "plt.xticks(rotation=45)\n",
        "plt.show()\n"
      ],
      "metadata": {
        "colab": {
          "base_uri": "https://localhost:8080/",
          "height": 805
        },
        "id": "LJCaEqZ7DnWd",
        "outputId": "fc08ab00-af0a-45a0-ef2e-4b1810f41a86"
      },
      "execution_count": 31,
      "outputs": [
        {
          "output_type": "stream",
          "name": "stdout",
          "text": [
            "Feature Importance (Coefficients):\n",
            " Hours_of_Study                0.311713\n",
            "Attendance_Percentage         0.213545\n",
            "Previous_Exam_Scores          0.245969\n",
            "Extracurricular_Activities    4.863717\n",
            "Travel_Time_to_School        -0.091859\n",
            "dtype: float64\n"
          ]
        },
        {
          "output_type": "display_data",
          "data": {
            "text/plain": [
              "<Figure size 1000x600 with 1 Axes>"
            ],
            "image/png": "[encoded data removed]"
          },
          "metadata": {}
        }
      ]
    },
    {
      "cell_type": "markdown",
      "source": [
        "# 8. Discussion:"
      ],
      "metadata": {
        "id": "1SMI0gPKEaz-"
      }
    },
    {
      "cell_type": "code",
      "source": [
        "discussion = \"\"\"\n",
        "**Insights and Reporting:**\n",
        "\n",
        "Feature Importance (Coefficients):\n",
        " Hours_of_Study                0.311713\n",
        "Attendance_Percentage         0.213545\n",
        "Previous_Exam_Scores          0.245969\n",
        "Extracurricular_Activities    4.863717\n",
        "Travel_Time_to_School        -0.091859\n",
        "\n",
        "Factors Affecting Student Grades:\n",
        "Hours of Study:\n",
        "The number of study hours is a crucial factor. Students who dedicate more time to studying tend to perform better academically.\n",
        "\n",
        "Attendance Percentage:\n",
        "Regular attendance in class positively correlates with better grades. Students who attend classes consistently are more likely to grasp the material and perform well.\n",
        "\n",
        "Previous Exam Scores:\n",
        "Strong performance in previous exams suggests a good understanding of the subject matter. High scores in past exams often lead to better overall grades.\n",
        "Extracurricular Activities:\n",
        "Participation in extracurricular activities can impact student grades. Balancing academics with other interests and responsibilities can be challenging.\n",
        "\n",
        "Travel Time to School:\n",
        "Longer travel times may affect students’ energy levels and focus. Commuting stress could impact academic performance.\n",
        "\n",
        "Surprising Findings or Insights:\n",
        "Extracurricular Activities:\n",
        "\n",
        "It’s interesting to explore how participation in extracurriculars affects grades. Some students thrive with additional activities, while others may find it overwhelming.\n",
        "Attendance vs. Study Hours:\n",
        "Does attending class matter more than study hours? Or vice versa? Investigating the trade-off between these two factors could yield valuable insights.\n",
        "Interaction Effects:\n",
        "Consider interactions between features. For example, students who study more but have long travel times might face unique challenges.\n",
        "Non-Linear Relationships:\n",
        "Linear regression assumes linear relationships, but real-world data can be more complex. Investigate non-linear effects (e.g., diminishing returns for study hours).\n",
        "\n",
        "Overall Discussion:\n",
        "The dataset provides an opportunity to explore these factors further. We can visualize relationships,\n",
        "perform statistical tests, and even build more sophisticated models to understand their combined impact.\n",
        "Remember that context matters, and individual differences play a significant role in academic achievement.\n",
        "\n",
        "\"\"\"\n",
        "\n",
        "# Write the discussion report text to a text file\n",
        "with open('discussion.txt', 'w') as file:\n",
        "    file.write(discussion)\n",
        "\n",
        "print(\"discussion report has been successfully generated as discussion.txt.\")\n"
      ],
      "metadata": {
        "colab": {
          "base_uri": "https://localhost:8080/"
        },
        "id": "ZI135qCKEdit",
        "outputId": "2955276a-79aa-4bdb-929e-5b6fc80b8591"
      },
      "execution_count": 32,
      "outputs": [
        {
          "output_type": "stream",
          "name": "stdout",
          "text": [
            "discussion report has been successfully generated as discussion.txt.\n"
          ]
        }
      ]
    },
    {
      "cell_type": "markdown",
      "source": [
        "# 9. Scenario Extension:"
      ],
      "metadata": {
        "id": "mbuHDCt6FtsS"
      }
    },
    {
      "cell_type": "code",
      "source": [
        "scenario = \"\"\"\n",
        "**Scenario Extension:**\n",
        "\n",
        "1. **Parental Education and Support**:\n",
        "   - The educational background of a student's parents can play a significant role.\n",
        "   Parents with higher education levels may provide better academic guidance and support.\n",
        "\n",
        "2. **Peer Influence and Study Groups**:\n",
        "   - Interactions with peers can affect study habits and motivation.\n",
        "   Joining study groups or collaborating with classmates might positively impact grades.\n",
        "\n",
        "3. **Health and Well-Being**:\n",
        "   - Physical and mental health directly influence academic performance.\n",
        "   Factors like sleep quality, nutrition, and stress levels matter.\n",
        "\n",
        "4. **Learning Style and Preferences**:\n",
        "   - Some students learn better through visual aids, while others prefer hands-on experiences.\n",
        "   Understanding individual learning styles can enhance study strategies.\n",
        "\n",
        "5. **Access to Technology and Resources**:\n",
        "   - Availability of computers, internet access, and libraries can affect research capabilities and overall learning experience.\n",
        "\n",
        "6. **Teacher Quality and Teaching Methods**:\n",
        "   - Effective teaching methods and supportive teachers contribute to student success.\n",
        "   Engaging classroom environments foster better understanding.\n",
        "\n",
        "7. **Motivation and Goal Setting**:\n",
        "   - Students with clear goals and intrinsic motivation tend to perform better.\n",
        "   Setting achievable targets can drive academic progress.\n",
        "\n",
        "8. **Socioeconomic Factors**:\n",
        "   - Economic status, family income, and neighborhood conditions impact educational opportunities. S\n",
        "   tudents from disadvantaged backgrounds may face additional challenges.\n",
        "\n",
        "9. **Personal Interests and Extracurriculars**:\n",
        "   - Passion for specific subjects or involvement in hobbies can influence overall engagement and satisfaction with education.\n",
        "\n",
        "10. **Time Management Skills**:\n",
        "    - Balancing academics, part-time jobs, and personal life requires effective time management.\n",
        "    Poor time management can lead to stress and lower grades.\n",
        "\n",
        "\"\"\"\n",
        "\n",
        "# Write the scenario report text to a text file\n",
        "with open('scenario.txt', 'w') as file:\n",
        "    file.write(scenario)\n",
        "\n",
        "print(\"scenario report has been successfully generated as scenario.txt.\")\n"
      ],
      "metadata": {
        "colab": {
          "base_uri": "https://localhost:8080/"
        },
        "id": "vKM4JMRoFxl6",
        "outputId": "59daa815-bf84-480f-f02d-63e21f898b54"
      },
      "execution_count": 33,
      "outputs": [
        {
          "output_type": "stream",
          "name": "stdout",
          "text": [
            "scenario report has been successfully generated as scenario.txt.\n"
          ]
        }
      ]
    },
    {
      "cell_type": "markdown",
      "source": [
        "# 10. Reflection:"
      ],
      "metadata": {
        "id": "8yuud-MiG4U5"
      }
    },
    {
      "cell_type": "code",
      "source": [
        "reflection = \"\"\"\n",
        "**Reflection:**\n",
        "\n",
        "Challenges Encountered:\n",
        "\n",
        "1. Data Quality and Missing Values:\n",
        "   - Dealing with missing data required thoughtful handling. Imputation or deletion decisions impact model performance.\n",
        "   - Ensuring data quality is crucial for reliable predictions.\n",
        "\n",
        "2. Feature Selection and Interpretation:\n",
        "   - Selecting relevant features is an art. We considered study hours, attendance, previous exam scores, extracurricular activities, and travel time.\n",
        "   - Interpreting feature importance and coefficients helped us understand their impact.\n",
        "\n",
        "3. Model Assumptions:\n",
        "   - Linear regression assumes linear relationships, which may not hold in all cases.\n",
        "   - Investigating non-linear effects and interactions is essential.\n",
        "\n",
        "Significance of Different Features:\n",
        "\n",
        "1. Hours of Study:\n",
        "   - The strongest positive impact. More study hours correlate with better grades.\n",
        "   - Encouraging students to allocate sufficient time for studying is crucial.\n",
        "\n",
        "2. Attendance Percentage:\n",
        "   - Regular attendance matters. Students who attend class consistently perform better.\n",
        "   - Schools should emphasize attendance policies.\n",
        "\n",
        "3. Previous Exam Scores:\n",
        "   - A strong predictor. High scores indicate subject mastery.\n",
        "   - Focusing on exam preparation pays off.\n",
        "\n",
        "4. Extracurricular Activities:\n",
        "   - Surprisingly, not as impactful. Balancing academics and activities is essential.\n",
        "   - Individual preferences matter.\n",
        "\n",
        "### Real-World Applications:\n",
        "\n",
        "1. Education Policy:\n",
        "   - Schools can use similar models to identify at-risk students early and provide targeted support.\n",
        "   - Optimize resource allocation based on feature importance.\n",
        "\n",
        "2. Personalized Learning:\n",
        "   - Adaptive learning platforms can tailor content based on individual features.\n",
        "   - Personalized study plans improve outcomes.\n",
        "\n",
        "3. Career Counseling:\n",
        "   - Understanding feature impact helps guide career choices.\n",
        "   - Highlighting the importance of study hours and attendance can motivate students.\n",
        "\n",
        "4. Parent-Teacher Conferences:\n",
        "   - Discussing feature-specific insights with parents fosters collaboration.\n",
        "   - Encourage parental involvement.\n",
        "\n",
        "\n",
        "\"\"\"\n",
        "\n",
        "# Write the reflection report text to a text file\n",
        "with open('reflection.txt', 'w') as file:\n",
        "    file.write(reflection)\n",
        "\n",
        "print(\"reflection report has been successfully generated as reflection.txt.\")"
      ],
      "metadata": {
        "colab": {
          "base_uri": "https://localhost:8080/"
        },
        "id": "9iqTkLW2G6oA",
        "outputId": "df98e7f1-a186-450c-d764-e927627ab0ff"
      },
      "execution_count": 34,
      "outputs": [
        {
          "output_type": "stream",
          "name": "stdout",
          "text": [
            "reflection report has been successfully generated as reflection.txt.\n"
          ]
        }
      ]
    }
  ]
}