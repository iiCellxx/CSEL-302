{
  "nbformat": 4,
  "nbformat_minor": 0,
  "metadata": {
    "colab": {
      "provenance": []
    },
    "kernelspec": {
      "name": "python3",
      "display_name": "Python 3"
    },
    "language_info": {
      "name": "python"
    }
  },
  "cells": [
    {
      "cell_type": "code",
      "execution_count": 1,
      "metadata": {
        "id": "kYwfYo86du2S"
      },
      "outputs": [],
      "source": [
        "import pandas as pd\n",
        "import matplotlib.pyplot as plt"
      ]
    },
    {
      "cell_type": "markdown",
      "source": [
        "1. Data Loading"
      ],
      "metadata": {
        "id": "i5TSoF_wiRsM"
      }
    },
    {
      "cell_type": "code",
      "source": [
        "# Load the CSV file into a DataFrame\n",
        "df = pd.read_csv('/content/hardwareStore.csv')  # Replace '/content/hardwareStore.csv' with the actual file path\n",
        "\n",
        "# Display the first few rows of the DataFrame\n",
        "print(\"DataFrame:\")\n",
        "print(df.head())"
      ],
      "metadata": {
        "id": "sDFKJOUJeVin",
        "colab": {
          "base_uri": "https://localhost:8080/"
        },
        "outputId": "54bc4592-c059-4440-d8bb-bd597a13daf8"
      },
      "execution_count": 2,
      "outputs": [
        {
          "output_type": "stream",
          "name": "stdout",
          "text": [
            "DataFrame:\n",
            "   CATEGORY_ID CATEGORY_NAME  PRODUCT_ID           PRODUCT_NAME  \\\n",
            "0            1           CPU           8  Intel Xeon E5-1650 V4   \n",
            "1            1           CPU           8  Intel Xeon E5-1650 V4   \n",
            "2            1           CPU           8  Intel Xeon E5-1650 V4   \n",
            "3            1           CPU           8  Intel Xeon E5-1650 V4   \n",
            "4            1           CPU           8  Intel Xeon E5-1650 V4   \n",
            "\n",
            "                     DESCRIPTION DESCRIPTION - Detail 1  \\\n",
            "0  Speed:3.6GHz,Cores:6,TDP:140W           Speed:3.6GHz   \n",
            "1  Speed:3.6GHz,Cores:6,TDP:140W           Speed:3.6GHz   \n",
            "2  Speed:3.6GHz,Cores:6,TDP:140W           Speed:3.6GHz   \n",
            "3  Speed:3.6GHz,Cores:6,TDP:140W           Speed:3.6GHz   \n",
            "4  Speed:3.6GHz,Cores:6,TDP:140W           Speed:3.6GHz   \n",
            "\n",
            "  DESCRIPTION - Detail 2 DESCRIPTION - Detail 3 DESCRIPTION - Detail 4  \\\n",
            "0                Cores:6               TDP:140W                    NaN   \n",
            "1                Cores:6               TDP:140W                    NaN   \n",
            "2                Cores:6               TDP:140W                    NaN   \n",
            "3                Cores:6               TDP:140W                    NaN   \n",
            "4                Cores:6               TDP:140W                    NaN   \n",
            "\n",
            "   STANDARD_COST  ...  REGION_ID LOCATION_ID  WAREHOUSE_ID  QUANTITY  \\\n",
            "0         535.47  ...          3          11             8        50   \n",
            "1         535.47  ...          3          12             9        36   \n",
            "2         535.47  ...          2           6             2        97   \n",
            "3         535.47  ...          2           8             4        67   \n",
            "4         535.47  ...          3          13             6        30   \n",
            "\n",
            "        WAREHOUSE_NAME                ADDRESS POSTAL_CODE  \\\n",
            "0              Beijing    40-5-12 Laogianggen      190518   \n",
            "1               Bombay     1298 Vileparle (E)      490231   \n",
            "2        San Francisco    2011 Interiors Blvd       99236   \n",
            "3  Seattle, Washington        2004 Charade Rd       98199   \n",
            "4               Sydney  12-98 Victoria Street        2901   \n",
            "\n",
            "                  CITY            STATE              COUNTRY_NAME  \n",
            "0              Beijing         Shenzhen                     China  \n",
            "1               Bombay      Maharashtra                     India  \n",
            "2  South San Francisco       California  United States of America  \n",
            "3              Seattle       Washington  United States of America  \n",
            "4               Sydney  New South Wales                 Australia  \n",
            "\n",
            "[5 rows x 22 columns]\n"
          ]
        }
      ]
    },
    {
      "cell_type": "markdown",
      "source": [
        "2. Initial Data Analysis"
      ],
      "metadata": {
        "id": "NfSBvv8aiTSs"
      }
    },
    {
      "cell_type": "code",
      "source": [
        "# Load the hardwareStore.csv dataset into a pandas DataFrame\n",
        "df = pd.read_csv('hardwareStore.csv')\n",
        "\n",
        "# Display basic statistics of the dataset\n",
        "basic_stats = df.describe()\n",
        "print(\"Basic Statistics of the Dataset:\")\n",
        "print(basic_stats)\n",
        "\n",
        "# Identify unique categories and their counts\n",
        "unique_categories = df['CATEGORY_NAME'].value_counts()\n",
        "print(\"\\nUnique Categories and Their Counts:\")\n",
        "print(unique_categories)"
      ],
      "metadata": {
        "colab": {
          "base_uri": "https://localhost:8080/"
        },
        "id": "r08nfFkbgvMp",
        "outputId": "58c9446b-3175-4a68-88a3-e9d491d81e8c"
      },
      "execution_count": 3,
      "outputs": [
        {
          "output_type": "stream",
          "name": "stdout",
          "text": [
            "Basic Statistics of the Dataset:\n",
            "       CATEGORY_ID   PRODUCT_ID  STANDARD_COST   LIST_PRICE    REGION_ID  \\\n",
            "count  1112.000000  1112.000000    1112.000000  1112.000000  1112.000000   \n",
            "mean      3.203237   139.579137     765.520405   950.993327     2.469424   \n",
            "std       1.637782    84.840057     794.252142   991.070482     0.499289   \n",
            "min       1.000000     2.000000      12.630000    15.550000     2.000000   \n",
            "25%       2.000000    71.750000     332.380000   435.222500     2.000000   \n",
            "50%       4.000000   133.000000     582.020000   744.980000     2.000000   \n",
            "75%       5.000000   216.000000     799.050000   999.990000     3.000000   \n",
            "max       5.000000   288.000000    7123.660000  8867.990000     3.000000   \n",
            "\n",
            "       LOCATION_ID  WAREHOUSE_ID     QUANTITY  \n",
            "count  1112.000000   1112.000000  1112.000000  \n",
            "mean     10.971223      5.548561   107.474820  \n",
            "std       4.662225      2.416821    68.008413  \n",
            "min       5.000000      1.000000     0.000000  \n",
            "25%       8.000000      4.000000    50.000000  \n",
            "50%      11.000000      6.000000    98.000000  \n",
            "75%      13.000000      8.000000   163.000000  \n",
            "max      23.000000      9.000000   353.000000  \n",
            "\n",
            "Unique Categories and Their Counts:\n",
            "Storage         416\n",
            "Video Card      318\n",
            "CPU             222\n",
            "Mother Board    156\n",
            "Name: CATEGORY_NAME, dtype: int64\n"
          ]
        }
      ]
    },
    {
      "cell_type": "markdown",
      "source": [
        "3. Category Analysis"
      ],
      "metadata": {
        "id": "Y0kUsrYFiYr3"
      }
    },
    {
      "cell_type": "code",
      "source": [
        "# Load the hardwareStore.csv dataset into a pandas DataFrame\n",
        "df = pd.read_csv('hardwareStore.csv')\n",
        "\n",
        "# Create a bar chart to visualize the distribution of products across categories\n",
        "category_counts = df['CATEGORY_NAME'].value_counts()\n",
        "plt.figure(figsize=(10, 6))\n",
        "category_counts.plot(kind='bar', color='skyblue')\n",
        "plt.title('Distribution of Products Across Categories')\n",
        "plt.xlabel('Category')\n",
        "plt.ylabel('Number of Products')\n",
        "plt.xticks(rotation=45, ha='right')\n",
        "plt.tight_layout()\n",
        "plt.show()\n",
        "\n",
        "# Determine which category has the highest number of products\n",
        "highest_category = category_counts.idxmax()\n",
        "highest_count = category_counts.max()\n",
        "print(f\"The category with the highest number of products is '{highest_category}' with {highest_count} products.\")"
      ],
      "metadata": {
        "colab": {
          "base_uri": "https://localhost:8080/",
          "height": 596
        },
        "id": "7-bWFomsg76Z",
        "outputId": "2b78a9e9-9409-48fa-f056-04bf9512e084"
      },
      "execution_count": 4,
      "outputs": [
        {
          "output_type": "display_data",
          "data": {
            "text/plain": [
              "<Figure size 1000x600 with 1 Axes>"
            ],
            "image/png": "[encoded data removed]"
          },
          "metadata": {}
        },
        {
          "output_type": "stream",
          "name": "stdout",
          "text": [
            "The category with the highest number of products is 'Storage' with 416 products.\n"
          ]
        }
      ]
    },
    {
      "cell_type": "markdown",
      "source": [
        "4. Cost and Price Analysis"
      ],
      "metadata": {
        "id": "hjJFrOnyibIF"
      }
    },
    {
      "cell_type": "code",
      "source": [
        "# Calculate the average standard cost and average list price\n",
        "average_standard_cost = df['STANDARD_COST'].mean()\n",
        "average_list_price = df['LIST_PRICE'].mean()\n",
        "\n",
        "print(f\"Average Standard Cost: ${average_standard_cost:.2f}\")\n",
        "print(f\"Average List Price: ${average_list_price:.2f}\")\n",
        "\n",
        "# Identify the product with the highest standard cost and the one with the highest list price\n",
        "highest_standard_cost_product = df.loc[df['STANDARD_COST'].idxmax(), 'PRODUCT_NAME']\n",
        "highest_list_price_product = df.loc[df['LIST_PRICE'].idxmax(), 'PRODUCT_NAME']\n",
        "\n",
        "print(f\"Product with the Highest Standard Cost: {highest_standard_cost_product}\")\n",
        "print(f\"Product with the Highest List Price: {highest_list_price_product}\")\n"
      ],
      "metadata": {
        "colab": {
          "base_uri": "https://localhost:8080/"
        },
        "id": "8EuRyGpzhmXV",
        "outputId": "a140e5b6-226c-4b0b-b87a-b13926c0b070"
      },
      "execution_count": 5,
      "outputs": [
        {
          "output_type": "stream",
          "name": "stdout",
          "text": [
            "Average Standard Cost: $765.52\n",
            "Average List Price: $950.99\n",
            "Product with the Highest Standard Cost: Intel SSDPECME040T401\n",
            "Product with the Highest List Price: Intel SSDPECME040T401\n"
          ]
        }
      ]
    },
    {
      "cell_type": "markdown",
      "source": [
        "5. Location Analysis"
      ],
      "metadata": {
        "id": "a5lmaWkbif8P"
      }
    },
    {
      "cell_type": "code",
      "source": [
        "# Aggregate the quantity of products by location (city or state)\n",
        "location_quantity = df.groupby(['CITY', 'STATE'])['QUANTITY'].sum().reset_index()\n",
        "\n",
        "# Find the location with the highest quantity of products in stock\n",
        "location_with_highest_quantity = location_quantity.loc[location_quantity['QUANTITY'].idxmax()]\n",
        "\n",
        "highest_quantity_location = location_with_highest_quantity[['CITY', 'STATE']].values[0]\n",
        "\n",
        "print(f\"Location with the Highest Quantity of Products in Stock: {highest_quantity_location}\")\n"
      ],
      "metadata": {
        "colab": {
          "base_uri": "https://localhost:8080/"
        },
        "id": "NoEWuEsdhpeZ",
        "outputId": "7548d4e8-c46e-4867-a246-3a9ab3c46514"
      },
      "execution_count": 6,
      "outputs": [
        {
          "output_type": "stream",
          "name": "stdout",
          "text": [
            "Location with the Highest Quantity of Products in Stock: South San Francisco\n"
          ]
        }
      ]
    },
    {
      "cell_type": "markdown",
      "source": [
        "6. Insights And Reporting"
      ],
      "metadata": {
        "id": "TCMYo-DYikwq"
      }
    },
    {
      "cell_type": "code",
      "source": [
        "insights_report_text = \"\"\"\n",
        "**Insights and Reporting:**\n",
        "\n",
        "After conducting a thorough analysis of the hardwareStore dataset, several key findings and insights have been revealed:\n",
        "\n",
        "1. **Category Analysis:**\n",
        "   - The category with the highest number of products is 'Storage' with 416 products.\n",
        "\n",
        "2. **Cost and Price Analysis:**\n",
        "   - Average Standard Cost: $765.52\n",
        "   - Average List Price: $950.99\n",
        "   - Product with the Highest Standard Cost: Intel SSDPECME040T401\n",
        "   - Product with the Highest List Price: Intel SSDPECME040T401\n",
        "\n",
        "3. **Location Analysis:**\n",
        "   - Location with the Highest Quantity of Products in Stock: South San Francisco\n",
        "\n",
        "**General Insights:**\n",
        "- Overall, the dataset provides valuable insights into the hardware store's product offerings, pricing strategies, and geographic distribution.\n",
        "- Opportunities for optimization and strategic decision-making exist, particularly in leveraging high-demand products and optimizing inventory across different locations.\n",
        "\n",
        "\"\"\"\n",
        "\n",
        "# Write the insights report text to a text file\n",
        "with open('insights_report.txt', 'w') as file:\n",
        "    file.write(insights_report_text)\n",
        "\n",
        "print(\"Insights report has been successfully generated as insights_report.txt.\")\n"
      ],
      "metadata": {
        "colab": {
          "base_uri": "https://localhost:8080/"
        },
        "id": "BC_zGbDphxDZ",
        "outputId": "3f0af34c-32c9-4ffa-8c7d-2f7a07767422"
      },
      "execution_count": null,
      "outputs": [
        {
          "output_type": "stream",
          "name": "stdout",
          "text": [
            "Insights report has been successfully generated as insights_report.txt.\n"
          ]
        }
      ]
    }
  ]
}